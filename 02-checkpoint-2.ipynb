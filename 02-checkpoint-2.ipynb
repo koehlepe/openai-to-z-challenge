{
 "cells": [
  {
   "cell_type": "code",
   "execution_count": 1,
   "id": "67b29e8d",
   "metadata": {
    "execution": {
     "iopub.execute_input": "2025-05-24T15:47:49.751057Z",
     "iopub.status.busy": "2025-05-24T15:47:49.750670Z",
     "iopub.status.idle": "2025-05-24T15:47:49.774190Z",
     "shell.execute_reply": "2025-05-24T15:47:49.773147Z"
    },
    "papermill": {
     "duration": 0.029101,
     "end_time": "2025-05-24T15:47:49.776497",
     "exception": false,
     "start_time": "2025-05-24T15:47:49.747396",
     "status": "completed"
    },
    "tags": []
   },
   "outputs": [
    {
     "name": "stdout",
     "output_type": "stream",
     "text": [
      "hello\n"
     ]
    }
   ],
   "source": [
    "import openai_to_z_utils as ut\n",
    "\n",
    "ut.print_hello()"
   ]
  }
 ],
 "metadata": {
  "kaggle": {
   "accelerator": "none",
   "dataSources": [
    {
     "sourceId": 241625046,
     "sourceType": "kernelVersion"
    }
   ],
   "dockerImageVersionId": 31040,
   "isGpuEnabled": false,
   "isInternetEnabled": true,
   "language": "python",
   "sourceType": "notebook"
  },
  "kernelspec": {
   "display_name": "Python 3",
   "language": "python",
   "name": "python3"
  },
  "language_info": {
   "codemirror_mode": {
    "name": "ipython",
    "version": 3
   },
   "file_extension": ".py",
   "mimetype": "text/x-python",
   "name": "python",
   "nbconvert_exporter": "python",
   "pygments_lexer": "ipython3",
   "version": "3.11.11"
  },
  "papermill": {
   "default_parameters": {},
   "duration": 5.573183,
   "end_time": "2025-05-24T15:47:50.199955",
   "environment_variables": {},
   "exception": null,
   "input_path": "__notebook__.ipynb",
   "output_path": "__notebook__.ipynb",
   "parameters": {},
   "start_time": "2025-05-24T15:47:44.626772",
   "version": "2.6.0"
  }
 },
 "nbformat": 4,
 "nbformat_minor": 5
}
